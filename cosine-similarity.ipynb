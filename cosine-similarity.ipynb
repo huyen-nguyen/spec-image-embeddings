{
 "cells": [
  {
   "cell_type": "code",
   "execution_count": 4,
   "id": "18cf2a23-9d4a-4da9-ad08-a5fc7574bb90",
   "metadata": {
    "tags": []
   },
   "outputs": [
    {
     "name": "stdout",
     "output_type": "stream",
     "text": [
      "Cosine similarity between the first two vectors: 0.9433130258180615\n"
     ]
    }
   ],
   "source": [
    "import pandas as pd\n",
    "import numpy as np\n",
    "import re\n",
    "\n",
    "# Function to clean up each row of vector data\n",
    "def clean_row(row):\n",
    "    # Extract the values within the brackets and convert them into a list of floats\n",
    "    cleaned_values = re.findall(r\"[-+]?\\d*\\.\\d+|\\d+\", row)\n",
    "    return [float(value) for value in cleaned_values]\n",
    "\n",
    "# Load the file as raw lines\n",
    "file_path = 'example/clip_vit_32_embeddings.tsv'\n",
    "# file_path = 'example/lit_b16b_embeddings.tsv'\n",
    "\n",
    "with open(file_path, 'r') as file:\n",
    "    lines = file.readlines()\n",
    "\n",
    "# Extract the vectors (removing brackets and cleaning)\n",
    "cleaned_data = [clean_row(line) for line in lines]\n",
    "\n",
    "# Convert the cleaned data into a DataFrame\n",
    "df_cleaned = pd.DataFrame(cleaned_data)\n",
    "\n",
    "# Function to compute cosine similarity between two vectors\n",
    "def cosine_similarity(vec1, vec2):\n",
    "    dot_product = np.dot(vec1, vec2)\n",
    "    norm_vec1 = np.linalg.norm(vec1)\n",
    "    norm_vec2 = np.linalg.norm(vec2)\n",
    "    return dot_product / (norm_vec1 * norm_vec2)\n",
    "\n",
    "# Example usage: calculate cosine similarity between the first two rows of the dataframe\n",
    "vector_1 = df_cleaned.iloc[0].values\n",
    "vector_2 = df_cleaned.iloc[1].values\n",
    "\n",
    "# Compute the cosine similarity\n",
    "similarity = cosine_similarity(vector_1, vector_2)\n",
    "\n",
    "print(f\"Cosine similarity between the first two vectors: {similarity}\")\n"
   ]
  },
  {
   "cell_type": "code",
   "execution_count": null,
   "id": "fa26f064-5016-45f7-8055-e5e7a2b8af51",
   "metadata": {},
   "outputs": [],
   "source": []
  }
 ],
 "metadata": {
  "kernelspec": {
   "display_name": "Python 3 (ipykernel)",
   "language": "python",
   "name": "python3"
  },
  "language_info": {
   "codemirror_mode": {
    "name": "ipython",
    "version": 3
   },
   "file_extension": ".py",
   "mimetype": "text/x-python",
   "name": "python",
   "nbconvert_exporter": "python",
   "pygments_lexer": "ipython3",
   "version": "3.11.5"
  }
 },
 "nbformat": 4,
 "nbformat_minor": 5
}
