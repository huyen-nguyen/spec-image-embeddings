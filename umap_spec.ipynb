{
 "cells": [
  {
   "cell_type": "code",
   "execution_count": 94,
   "id": "28e6eb67-33b1-470b-8ae2-255af7c4821b",
   "metadata": {},
   "outputs": [],
   "source": [
    "import pandas as pd\n",
    "import umap\n",
    "\n",
    "# Initialize UMAP. Reduce dimensionality to 2D for easy visualization.\n",
    "# Create a UMAP instance with custom parameters\n",
    "reducer = umap.UMAP(\n",
    "    n_neighbors=100,\n",
    "    n_components=2,\n",
    "    metric='euclidean',\n",
    "    min_dist=1.4,\n",
    "    spread=2.5,\n",
    "    learning_rate=1.0,\n",
    "    n_epochs=300,\n",
    "    init='spectral'\n",
    ")"
   ]
  },
  {
   "cell_type": "markdown",
   "id": "55969f94-4df9-483f-8226-c88e36140d0e",
   "metadata": {},
   "source": [
    "## Embeddings from Specs"
   ]
  },
  {
   "cell_type": "code",
   "execution_count": null,
   "id": "374b54a7-a063-4946-946f-6bf1ba911eaa",
   "metadata": {
    "tags": []
   },
   "outputs": [],
   "source": [
    "\n",
    "# --------- Load Spec Data and Apply UMAP ----------\n",
    "\n",
    "# Load the CSV file into a DataFrame\n",
    "df = pd.read_csv('embeddings/spec_embeddings.csv')\n",
    "df_label = pd.read_csv('labels.csv')\n",
    "\n",
    "# Assume 'filename' is the column to exclude from embeddings\n",
    "filename_spec = df['filename']\n",
    "\n",
    "# Extract all other columns as embeddings\n",
    "embeddings_spec = df.drop('filename', axis=1)\n",
    "\n",
    "# Apply UMAP \n",
    "umap_embeddings_spec = reducer.fit_transform(embeddings_spec)\n",
    "\n",
    "\n",
    "# --------- Prepare labels ---------\n",
    "\n",
    "import re\n",
    "def extract_substring(s):\n",
    "    # Use a regular expression to find the point at which to stop\n",
    "    match = re.search(r'_(p|m|sw|s)', s)\n",
    "    if match:\n",
    "        return s[:match.start()]\n",
    "    return s  # Return the whole string if no match is found\n",
    "\n",
    "def attach_image(s):    \n",
    "    return \"https://raw.githubusercontent.com/huyen-nguyen/spec-image-embeddings/main/screenshots/\" + s[:-4] + \"png\"  # Return the whole string if no match is found\n",
    "\n",
    "def attach_image_from_non_spec(s):    \n",
    "    return \"https://raw.githubusercontent.com/huyen-nguyen/spec-image-embeddings/main/screenshots/\" + s\n",
    "\n",
    "# Apply the function to the 'Label' column\n",
    "df['seed'] = df['filename'].apply(extract_substring)\n",
    "\n",
    "# ----------- Apply labels -------------\n",
    "\n",
    "# Convert the embeddings to a DataFrame\n",
    "umap_embeddings_spec = pd.DataFrame(umap_embeddings_spec, columns=['UMAP_1', 'UMAP_2'])\n",
    "\n",
    "# Add the labels to the DataFrame\n",
    "umap_embeddings_spec['seed'] = df['seed']\n",
    "umap_embeddings_spec['identifier'] = df['filename'].str.split('.').str[0]\n",
    "umap_embeddings_spec['url'] = df['filename'].apply(attach_image)\n",
    "\n",
    "# ------------ Merging DataFrames on the new key ------------\n",
    "\n",
    "merged_df = pd.merge(umap_embeddings_spec, df_label, on='identifier', how='inner')  \n",
    "\n",
    "# The merge df contains: UMAP_1, UMAP_2, seed, identifier,  url, data_label, layout_label, arrangement_label, mark_label  \n",
    "# Display the first few rows of the DataFrame\n",
    "# print(merged_df.head())\n",
    "\n",
    "# ----------- Config -------------\n",
    "\n",
    "# API Reference: https://github.com/flekschas/jupyter-scatter\n",
    "# and also https://github.com/flekschas/regl-scatterplot/#properties\n",
    "config = {\n",
    "    \"size\": 7,\n",
    "    \"axes_labels\": True,\n",
    "    \"height\": 800,\n",
    "    \"background\": \"dark\",\n",
    "    \"legend\": True,\n",
    "    # \"aspectRatio\": 1,\n",
    "    \"opacity\": 0.3,\n",
    "    \"axes_grid\": True\n",
    "}\n",
    "\n",
    "# ----------- Plotting the results using jupyter scatter -----------\n",
    "import jscatter\n",
    "\n",
    "jscatter.Scatter(\n",
    "    data=merged_df, x='UMAP_1', y='UMAP_2', color_by='seed', **config, \n",
    "    tooltip=True,\n",
    "    tooltip_preview=\"url\",\n",
    "    tooltip_preview_type=\"image\",\n",
    "    tooltip_preview_image_background_color=\"white\",\n",
    "    tooltip_properties=[\"color\", \"size\"],\n",
    "    tooltip_size=\"medium\",\n",
    ").show()"
   ]
  },
  {
   "cell_type": "markdown",
   "id": "cb4a58c8-efdf-49b2-b9cd-ba0d68331938",
   "metadata": {},
   "source": [
    "# "
   ]
  },
  {
   "cell_type": "code",
   "execution_count": null,
   "id": "05da6144-c529-410d-aa16-df95fda2c9f3",
   "metadata": {},
   "outputs": [],
   "source": []
  }
 ],
 "metadata": {
  "kernelspec": {
   "display_name": "Python 3 (ipykernel)",
   "language": "python",
   "name": "python3"
  },
  "language_info": {
   "codemirror_mode": {
    "name": "ipython",
    "version": 3
   },
   "file_extension": ".py",
   "mimetype": "text/x-python",
   "name": "python",
   "nbconvert_exporter": "python",
   "pygments_lexer": "ipython3",
   "version": "3.12.3"
  }
 },
 "nbformat": 4,
 "nbformat_minor": 5
}
