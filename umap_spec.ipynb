{
 "cells": [
  {
   "cell_type": "code",
   "execution_count": 2,
   "id": "28e6eb67-33b1-470b-8ae2-255af7c4821b",
   "metadata": {},
   "outputs": [],
   "source": [
    "import pandas as pd\n",
    "import umap\n",
    "import re\n",
    "\n",
    "# Initialize UMAP. Reduce dimensionality to 2D for easy visualization.\n",
    "# Create a UMAP instance with custom parameters\n",
    "\n",
    "# reducer = umap.UMAP(\n",
    "#     n_neighbors=50,\n",
    "#     n_components=2,\n",
    "#     metric='euclidean',\n",
    "#     min_dist=0.5,\n",
    "#     spread=0.5,\n",
    "#     learning_rate=1.0,\n",
    "#     n_epochs=200,\n",
    "#     init='spectral',\n",
    "#     random_state=29,\n",
    "# )\n",
    "\n",
    "reducer = umap.UMAP(\n",
    "    n_neighbors=120,\n",
    "    n_components=2,\n",
    "    metric='euclidean',\n",
    "    min_dist=5.5,\n",
    "    spread=6.5,\n",
    "    learning_rate=1.0,\n",
    "    n_epochs=200,\n",
    "    init='spectral',\n",
    "    random_state=29,\n",
    ")\n",
    "\n",
    "def extract_substring(s):\n",
    "    # Use a regular expression to find the point at which to stop\n",
    "    match = re.search(r'_(p|m|sw|s)', s)\n",
    "    if match:\n",
    "        return s[:match.start()]\n",
    "    return s  # Return the whole string if no match is found\n",
    "\n",
    "def attach_image(s):    \n",
    "    return \"https://raw.githubusercontent.com/huyen-nguyen/spec-image-embeddings/main/screenshots/\" + s[:-4] + \"png\"  # Return the whole string if no match is found\n",
    "\n",
    "def attach_image_from_non_spec(s):    \n",
    "    return \"https://raw.githubusercontent.com/huyen-nguyen/spec-image-embeddings/main/screenshots/\" + s\n"
   ]
  },
  {
   "cell_type": "markdown",
   "id": "55969f94-4df9-483f-8226-c88e36140d0e",
   "metadata": {},
   "source": [
    "## Embeddings from Specs"
   ]
  },
  {
   "cell_type": "code",
   "execution_count": 3,
   "id": "374b54a7-a063-4946-946f-6bf1ba911eaa",
   "metadata": {
    "tags": []
   },
   "outputs": [
    {
     "name": "stderr",
     "output_type": "stream",
     "text": [
      "/Users/huyennguyen/anaconda3/envs/embs_venv/lib/python3.12/site-packages/umap/umap_.py:1394: RuntimeWarning: divide by zero encountered in power\n",
      "  return 1.0 / (1.0 + a * x ** (2 * b))\n",
      "/Users/huyennguyen/anaconda3/envs/embs_venv/lib/python3.12/site-packages/umap/umap_.py:1945: UserWarning: n_jobs value 1 overridden to 1 by setting random_state. Use no seed for parallelism.\n",
      "  warn(f\"n_jobs value {self.n_jobs} overridden to 1 by setting random_state. Use no seed for parallelism.\")\n"
     ]
    }
   ],
   "source": [
    "\n",
    "# --------- Load Spec Data and Apply UMAP ----------\n",
    "\n",
    "# Load the CSV file into a DataFrame\n",
    "df = pd.read_csv('embeddings/spec_embeddings.csv')\n",
    "\n",
    "\n",
    "# Assume 'filename' is the column to exclude from embeddings\n",
    "filename_spec = df['filename']\n",
    "\n",
    "# Extract all other columns as embeddings\n",
    "embeddings_spec = df.drop('filename', axis=1)\n",
    "\n",
    "# Apply UMAP \n",
    "umap_embeddings_spec = reducer.fit_transform(embeddings_spec)\n",
    "\n",
    "# ----------- Apply labels -------------\n",
    "\n",
    "# Convert the embeddings to a DataFrame\n",
    "umap_embeddings_spec = pd.DataFrame(umap_embeddings_spec, columns=['UMAP_1', 'UMAP_2'])\n",
    "\n",
    "# Add the labels to the DataFrame\n",
    "# umap_embeddings_spec['seed'] = df['filename'].apply(extract_substring)\n",
    "umap_embeddings_spec['identifier'] = df['filename'].str.split('.').str[0]\n",
    "umap_embeddings_spec['url'] = df['filename'].apply(attach_image)"
   ]
  },
  {
   "cell_type": "code",
   "execution_count": 8,
   "id": "edacdde9-082f-44ad-894e-089b4a352c64",
   "metadata": {},
   "outputs": [],
   "source": [
    "df_label = pd.read_csv('labels_uniform.csv')\n",
    "# ------------ Merging DataFrames ------------\n",
    "merged_df = pd.merge(umap_embeddings_spec, df_label, on='identifier', how='inner')  \n",
    "\n",
    "# The merge df contains: UMAP_1, UMAP_2, seed, identifier,  url, data_label, layout_label, arrangement_label, mark_label  "
   ]
  },
  {
   "cell_type": "code",
   "execution_count": 12,
   "id": "a46d070c-7377-4eb4-a013-36f1fe45dc73",
   "metadata": {},
   "outputs": [
    {
     "data": {
      "application/vnd.jupyter.widget-view+json": {
       "model_id": "b4a198089b8d43b98edd66981e33f071",
       "version_major": 2,
       "version_minor": 0
      },
      "text/plain": [
       "HBox(children=(VBox(children=(Button(button_style='primary', icon='arrows', layout=Layout(width='36px'), style…"
      ]
     },
     "execution_count": 12,
     "metadata": {},
     "output_type": "execute_result"
    }
   ],
   "source": [
    "# ----------- Config -------------\n",
    "\n",
    "# API Reference: https://github.com/flekschas/jupyter-scatter\n",
    "# and also https://github.com/flekschas/regl-scatterplot/#properties\n",
    "config = {\n",
    "    \"size\": 7,\n",
    "    \"axes_labels\": True,\n",
    "    \"height\": 800,\n",
    "    \"background\": \"dark\",\n",
    "    \"legend\": True,\n",
    "    # \"aspectRatio\": 1,\n",
    "    \"opacity\": 0.5,\n",
    "    \"axes_grid\": False,\n",
    "}\n",
    "\n",
    "# ----------- Plotting the results using jupyter scatter -----------\n",
    "import jscatter\n",
    "\n",
    "jscatter.Scatter(\n",
    "    data=merged_df, x='UMAP_1', y='UMAP_2', color_by='orientation_label', **config, \n",
    "    tooltip=True,\n",
    "    tooltip_preview=\"url\",\n",
    "    tooltip_preview_type=\"image\",\n",
    "    tooltip_preview_image_background_color=\"white\",\n",
    "    tooltip_properties=[\"color\", \"size\"],\n",
    "    tooltip_size=\"medium\",\n",
    "    color_map=dict(\n",
    "        # data\n",
    "        sparse='#009e73',          # green\n",
    "        contiguous='#56b4e9',          # blue\n",
    "        multi_data_types ='#e69f00', # yellow\n",
    "        \n",
    "        # alignment\n",
    "        stack='#009e73',          # green\n",
    "        overlay='#56b4e9',          # blue\n",
    "        multi_alignments='#e69f00', # yellow\n",
    "        \n",
    "        # arrangement\n",
    "        vertical='#009e73',          # green\n",
    "        horizontal='#56b4e9',          # blue\n",
    "        parallel='#cc79a7',         # pink\n",
    "        serial='#9467bd',          # green\n",
    "        multi_arrangements='#e69f00', # yellow\n",
    "        no_arrangements=\"#cccccc\",  # gray\n",
    "    \n",
    "         # layout\n",
    "        linear='#009e73',          # green\n",
    "        circular='#56b4e9',          # blue\n",
    "        multi_layouts ='#e69f00', # yellow\n",
    "    \n",
    "        # mark\n",
    "        area='#56b4e9',\n",
    "            area_bar='#aec7e8',\n",
    "            area_brush='#ff7f0e',\n",
    "            area_line='#ffbb78',\n",
    "            area_point='#2ca02c',\n",
    "            area_rect='#98df8a',\n",
    "            bar='#d62728',\n",
    "            bar_line='#ff9896',\n",
    "            bar_point='#bcbd22',\n",
    "            bar_rect='#dbdb8d',\n",
    "            brush_line='#8c564b',\n",
    "            brush_point='#c49c94',\n",
    "        line='#e377c2',\n",
    "            line_point='#f7b6d2',\n",
    "            line_rect='#7f7f7f',\n",
    "            link_rect='#c7c7c7',\n",
    "            multi_marks='#e69f00',\n",
    "        point='#009e73',\n",
    "            point_rect='#1f77b4',\n",
    "            rect='#9467bd',\n",
    "        rect_triangle='#c5b0d5',\n",
    "\n",
    "        # orientation\n",
    "        vertical_orientation='#009e73',          # green\n",
    "        horizontal_orientation='#56b4e9',          # blue\n",
    "        multi_orientations ='#e69f00', # yellow\n",
    "    ),\n",
    ").show()"
   ]
  },
  {
   "cell_type": "code",
   "execution_count": null,
   "id": "6435d054-f3b9-499c-8901-dfc1c25329e5",
   "metadata": {},
   "outputs": [],
   "source": []
  }
 ],
 "metadata": {
  "kernelspec": {
   "display_name": "Python 3 (ipykernel)",
   "language": "python",
   "name": "python3"
  },
  "language_info": {
   "codemirror_mode": {
    "name": "ipython",
    "version": 3
   },
   "file_extension": ".py",
   "mimetype": "text/x-python",
   "name": "python",
   "nbconvert_exporter": "python",
   "pygments_lexer": "ipython3",
   "version": "3.12.3"
  }
 },
 "nbformat": 4,
 "nbformat_minor": 5
}
