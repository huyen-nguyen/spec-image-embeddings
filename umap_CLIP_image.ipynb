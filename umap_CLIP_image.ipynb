{
 "cells": [
  {
   "cell_type": "markdown",
   "id": "593b9f47-506a-4fe3-9cb7-9f44565b05d5",
   "metadata": {},
   "source": [
    "## Reading from file"
   ]
  },
  {
   "cell_type": "code",
   "execution_count": 62,
   "id": "39f6fcb6-ad87-4cc2-bd72-a37d5d089831",
   "metadata": {},
   "outputs": [],
   "source": [
    "import pandas as pd\n",
    "import umap\n",
    "\n",
    "# Load the CSV file\n",
    "df = pd.read_csv('embeddings/image_clip_embeddings.csv')\n",
    "df_label = pd.read_csv('labels.csv')\n",
    "\n",
    "# Assuming embeddings are in the second column and are stored as strings\n",
    "# Example of embedding: \"[0.23, 0.35, 0.11]\"\n",
    "import ast  # ast.literal_eval safely evaluates a string containing a Python literal expression\n",
    "\n",
    "df['embeddings'] = df['Embeddings'].apply(ast.literal_eval)\n",
    "# Accessing the embedding for the first row\n",
    "first_embedding = df.loc[0, 'embeddings']\n",
    "# print(first_embedding)\n",
    "# print(len(first_embedding))"
   ]
  },
  {
   "cell_type": "markdown",
   "id": "7c39b67b-4260-4076-8084-5ce5cc9f61f5",
   "metadata": {},
   "source": [
    "## Initialize UMAP"
   ]
  },
  {
   "cell_type": "code",
   "execution_count": 65,
   "id": "29a7ed8f-11e9-4295-bd03-b641f0aa6529",
   "metadata": {},
   "outputs": [],
   "source": [
    "# Assuming 'df' is your DataFrame and it contains an 'embeddings' column with your embeddings data\n",
    "# Convert embeddings list into a proper format if necessary\n",
    "embeddings = list(df['embeddings'])\n",
    "\n",
    "# Initialize UMAP. Reduce dimensionality to 2D for easy visualization.\n",
    "# Create a UMAP instance with custom parameters\n",
    "reducer = umap.UMAP(\n",
    "    n_neighbors=50,\n",
    "    n_components=2,\n",
    "    metric='euclidean',\n",
    "    min_dist=0.5,\n",
    "    spread=0.5,\n",
    "    learning_rate=1.0,\n",
    "    n_epochs=200,\n",
    "    init='spectral'\n",
    ")\n",
    "# reducer = umap.UMAP(\n",
    "#     n_neighbors=120,\n",
    "#     n_components=2,\n",
    "#     metric='euclidean',\n",
    "#     min_dist=5.5,\n",
    "#     spread=6.5,\n",
    "#     learning_rate=1.0,\n",
    "#     n_epochs=200,\n",
    "#     init='spectral'\n",
    "# )\n",
    "umap_embeddings = reducer.fit_transform(embeddings)"
   ]
  },
  {
   "cell_type": "markdown",
   "id": "09f4eaac-02a8-4bb9-ada6-05e9197607db",
   "metadata": {},
   "source": [
    "## Embeddings from Images with CLIP"
   ]
  },
  {
   "cell_type": "code",
   "execution_count": 66,
   "id": "493af424-55fe-4c7f-bba9-78f82c1590ed",
   "metadata": {},
   "outputs": [
    {
     "data": {
      "application/vnd.jupyter.widget-view+json": {
       "model_id": "dff68aaeee3c4b73b164b80de210f37a",
       "version_major": 2,
       "version_minor": 0
      },
      "text/plain": [
       "HBox(children=(VBox(children=(Button(button_style='primary', icon='arrows', layout=Layout(width='36px'), style…"
      ]
     },
     "execution_count": 66,
     "metadata": {},
     "output_type": "execute_result"
    }
   ],
   "source": [
    "\n",
    "#  --------- Prepare labels ---------\n",
    "import re\n",
    "\n",
    "def extract_substring(s):\n",
    "    # Use a regular expression to find the point at which to stop\n",
    "    match = re.search(r'_(p|m|sw|s)', s)\n",
    "    if match:\n",
    "        return s[:match.start()]\n",
    "    return s  # Return the whole string if no match is found\n",
    "\n",
    "def attach_image(s):    \n",
    "    return \"https://raw.githubusercontent.com/huyen-nguyen/spec-image-embeddings/main/screenshots/\" + s  # Return the whole string if no match is found\n",
    "\n",
    "# Apply the function to the 'Label' column\n",
    "df['Label'] = df['Filename'].apply(extract_substring)\n",
    "\n",
    "# Display the DataFrame to see the original and trimmed labels\n",
    "# print(df)\n",
    "\n",
    "# --------- Apply Labels ---------\n",
    "\n",
    "# print(len(umap_embeddings))\n",
    "\n",
    "# Convert the embeddings to a DataFrame\n",
    "embedding_df = pd.DataFrame(umap_embeddings, columns=['UMAP_1', 'UMAP_2'])\n",
    "\n",
    "# Add the labels to the DataFrame\n",
    "embedding_df['Label'] = df['Label']\n",
    "\n",
    "embedding_df[\"url\"] = df['Filename'].apply(attach_image)\n",
    "embedding_df['identifier'] = df['Filename'].str.split('.').str[0]\n",
    "    \n",
    "# Display the first few rows of the DataFrame\n",
    "# print(embedding_df.head())\n",
    "\n",
    "# ------------ Merging DataFrames ------------\n",
    "merged_df = pd.merge(embedding_df, df_label, on='identifier', how='inner')  \n",
    "\n",
    "# ------- Visualize --------\n",
    "# API Reference: https://github.com/flekschas/jupyter-scatter\n",
    "# and also https://github.com/flekschas/regl-scatterplot/#properties\n",
    "config = {\n",
    "    \"size\": 7,\n",
    "    \"axes_labels\": True,\n",
    "    \"height\": 800,\n",
    "    \"background\": \"dark\",\n",
    "    \"legend\": True,\n",
    "    # \"aspectRatio\": 1,\n",
    "    \"opacity\": 0.5,\n",
    "    \"axes_grid\": False\n",
    "}\n",
    "\n",
    "# Plotting the results using jupyter scatter\n",
    "import jscatter\n",
    "\n",
    "jscatter.Scatter(\n",
    "    data=merged_df, x='UMAP_1', y='UMAP_2', color_by='alignment_label', **config,\n",
    "    tooltip=True,\n",
    "    tooltip_preview=\"url\",\n",
    "    tooltip_preview_type=\"image\",\n",
    "    tooltip_preview_image_background_color=\"white\",\n",
    "    tooltip_properties=[\"color\"],\n",
    "    tooltip_size=\"medium\",\n",
    ").show()"
   ]
  },
  {
   "cell_type": "code",
   "execution_count": null,
   "id": "6a6e9765-60f9-4933-bcb7-502151a6e3cf",
   "metadata": {},
   "outputs": [],
   "source": []
  },
  {
   "cell_type": "code",
   "execution_count": null,
   "id": "d40bcd4d-edc4-4891-836e-806e4dead9c1",
   "metadata": {},
   "outputs": [],
   "source": []
  }
 ],
 "metadata": {
  "kernelspec": {
   "display_name": "Python 3 (ipykernel)",
   "language": "python",
   "name": "python3"
  },
  "language_info": {
   "codemirror_mode": {
    "name": "ipython",
    "version": 3
   },
   "file_extension": ".py",
   "mimetype": "text/x-python",
   "name": "python",
   "nbconvert_exporter": "python",
   "pygments_lexer": "ipython3",
   "version": "3.12.3"
  }
 },
 "nbformat": 4,
 "nbformat_minor": 5
}
