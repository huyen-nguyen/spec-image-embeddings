{
 "cells": [
  {
   "cell_type": "markdown",
   "id": "593b9f47-506a-4fe3-9cb7-9f44565b05d5",
   "metadata": {},
   "source": [
    "## Reading from file"
   ]
  },
  {
   "cell_type": "code",
   "execution_count": 5,
   "id": "39f6fcb6-ad87-4cc2-bd72-a37d5d089831",
   "metadata": {},
   "outputs": [],
   "source": [
    "import pandas as pd\n",
    "import umap\n",
    "import re\n",
    "import ast  # ast.literal_eval safely evaluates a string containing a Python literal expression\n",
    "\n",
    "# Load the CSV file\n",
    "df = pd.read_csv('embeddings/image_clip_embeddings.csv')\n",
    "\n",
    "df['embeddings'] = df['Embeddings'].apply(ast.literal_eval)\n",
    "\n",
    "def extract_substring(s):\n",
    "    # Use a regular expression to find the point at which to stop\n",
    "    match = re.search(r'_(p|m|sw|s)', s)\n",
    "    if match:\n",
    "        return s[:match.start()]\n",
    "    return s  # Return the whole string if no match is found\n",
    "\n",
    "def attach_image(s):    \n",
    "    return \"https://raw.githubusercontent.com/huyen-nguyen/spec-image-embeddings/main/screenshots/\" + s  # Return the whole string if no match is found"
   ]
  },
  {
   "cell_type": "markdown",
   "id": "7c39b67b-4260-4076-8084-5ce5cc9f61f5",
   "metadata": {},
   "source": [
    "## Initialize UMAP"
   ]
  },
  {
   "cell_type": "code",
   "execution_count": 6,
   "id": "29a7ed8f-11e9-4295-bd03-b641f0aa6529",
   "metadata": {},
   "outputs": [
    {
     "name": "stderr",
     "output_type": "stream",
     "text": [
      "/Users/huyennguyen/anaconda3/envs/embs_venv/lib/python3.12/site-packages/umap/umap_.py:1394: RuntimeWarning: divide by zero encountered in power\n",
      "  return 1.0 / (1.0 + a * x ** (2 * b))\n",
      "/Users/huyennguyen/anaconda3/envs/embs_venv/lib/python3.12/site-packages/umap/umap_.py:1945: UserWarning: n_jobs value 1 overridden to 1 by setting random_state. Use no seed for parallelism.\n",
      "  warn(f\"n_jobs value {self.n_jobs} overridden to 1 by setting random_state. Use no seed for parallelism.\")\n"
     ]
    }
   ],
   "source": [
    "# Assuming 'df' is your DataFrame and it contains an 'embeddings' column with your embeddings data\n",
    "# Convert embeddings list into a proper format if necessary\n",
    "embeddings = list(df['embeddings'])\n",
    "\n",
    "# Initialize UMAP. Reduce dimensionality to 2D for easy visualization.\n",
    "# Create a UMAP instance with custom parameters\n",
    "# reducer = umap.UMAP(\n",
    "#     n_neighbors=50,\n",
    "#     n_components=2,\n",
    "#     metric='euclidean',\n",
    "#     min_dist=0.5,\n",
    "#     spread=0.5,\n",
    "#     learning_rate=1.0,\n",
    "#     n_epochs=200,\n",
    "#     init='spectral',\n",
    "#     random_state=29,\n",
    "# )\n",
    "\n",
    "reducer = umap.UMAP(\n",
    "    n_neighbors=120,\n",
    "    n_components=2,\n",
    "    metric='euclidean',\n",
    "    min_dist=5.5,\n",
    "    spread=6.5,\n",
    "    learning_rate=1.0,\n",
    "    n_epochs=200,\n",
    "    init='spectral',\n",
    "    random_state=29,\n",
    ")\n",
    "umap_embeddings = reducer.fit_transform(embeddings)"
   ]
  },
  {
   "cell_type": "markdown",
   "id": "09f4eaac-02a8-4bb9-ada6-05e9197607db",
   "metadata": {},
   "source": [
    "## Embeddings from Images with CLIP"
   ]
  },
  {
   "cell_type": "code",
   "execution_count": 7,
   "id": "493af424-55fe-4c7f-bba9-78f82c1590ed",
   "metadata": {},
   "outputs": [],
   "source": [
    "# --------- Apply Labels ---------\n",
    "\n",
    "# Convert the embeddings to a DataFrame\n",
    "embedding_df = pd.DataFrame(umap_embeddings, columns=['UMAP_1', 'UMAP_2'])\n",
    "\n",
    "# Add the labels to the DataFrame\n",
    "# embedding_df['Label'] = df['Label']\n",
    "embedding_df[\"url\"] = df['Filename'].apply(attach_image)\n",
    "embedding_df['identifier'] = df['Filename'].str.split('.').str[0]"
   ]
  },
  {
   "cell_type": "code",
   "execution_count": 8,
   "id": "c765184b-edcd-4897-a7d2-c4fe46886dfe",
   "metadata": {},
   "outputs": [],
   "source": [
    "# labels\n",
    "df_label = pd.read_csv('labels.csv')\n",
    "\n",
    "# ------------ Merging DataFrames ------------\n",
    "merged_df = pd.merge(embedding_df, df_label, on='identifier', how='inner')  "
   ]
  },
  {
   "cell_type": "code",
   "execution_count": 9,
   "id": "7f806a61-25ad-4fcd-9b4c-aafbfc373196",
   "metadata": {},
   "outputs": [],
   "source": [
    "colormap = dict(\n",
    "        # data\n",
    "        sparse='#009e73',          # green\n",
    "        contiguous='#56b4e9',          # blue\n",
    "        multi_data_types ='#e69f00', # yellow\n",
    "        \n",
    "        # alignment\n",
    "        stack='#009e73',          # green\n",
    "        overlay='#56b4e9',          # blue\n",
    "        multi_alignments='#e69f00', # yellow\n",
    "        \n",
    "        # arrangement\n",
    "        vertical='#009e73',          # green\n",
    "        horizontal='#56b4e9',          # blue\n",
    "        parallel='#cc79a7',         # pink\n",
    "        serial='#9467bd',          # green\n",
    "        multi_arrangements='#e69f00', # yellow\n",
    "        no_arrangements=\"#cccccc\",  # gray\n",
    "    \n",
    "         # layout\n",
    "        linear='#009e73',          # green\n",
    "        circular='#56b4e9',          # blue\n",
    "        multi_layouts ='#e69f00', # yellow\n",
    "    \n",
    "        # mark\n",
    "        area='#56b4e9',\n",
    "            area_bar='#aec7e8',\n",
    "            area_brush='#ff7f0e',\n",
    "            area_line='#ffbb78',\n",
    "            area_point='#2ca02c',\n",
    "            area_rect='#98df8a',\n",
    "            bar='#d62728',\n",
    "            bar_line='#ff9896',\n",
    "            bar_point='#bcbd22',\n",
    "            bar_rect='#dbdb8d',\n",
    "            brush_line='#8c564b',\n",
    "            brush_point='#c49c94',\n",
    "        line='#e377c2',\n",
    "            line_point='#f7b6d2',\n",
    "            line_rect='#7f7f7f',\n",
    "            link_rect='#c7c7c7',\n",
    "            multi_marks='#e69f00',\n",
    "        point='#009e73',\n",
    "            point_rect='#1f77b4',\n",
    "            rect='#9467bd',\n",
    "        rect_triangle='#c5b0d5',\n",
    "\n",
    "        # orientation\n",
    "        vertical_orientation='#009e73',          # green\n",
    "        horizontal_orientation='#56b4e9',          # blue\n",
    "        multi_orientations ='#e69f00', # yellow\n",
    "    )"
   ]
  },
  {
   "cell_type": "code",
   "execution_count": 15,
   "id": "2f0c930f-1778-40db-8e74-68312975f4ad",
   "metadata": {},
   "outputs": [
    {
     "data": {
      "application/vnd.jupyter.widget-view+json": {
       "model_id": "462ff963b7d64755aa0c174a55f660d5",
       "version_major": 2,
       "version_minor": 0
      },
      "text/plain": [
       "HBox(children=(VBox(children=(Button(button_style='primary', icon='arrows', layout=Layout(width='36px'), style…"
      ]
     },
     "execution_count": 15,
     "metadata": {},
     "output_type": "execute_result"
    }
   ],
   "source": [
    "# ----------- Config -------------\n",
    "\n",
    "# API Reference: https://github.com/flekschas/jupyter-scatter\n",
    "# and also https://github.com/flekschas/regl-scatterplot/#properties\n",
    "config = {\n",
    "    \"size\": 7,\n",
    "    \"axes_labels\": True,\n",
    "    \"height\": 800,\n",
    "    \"background\": \"dark\",\n",
    "    \"legend\": True,\n",
    "    # \"aspectRatio\": 1,\n",
    "    \"opacity\": 0.5,\n",
    "    \"axes_grid\": False,\n",
    "}\n",
    "\n",
    "# ----------- Plotting the results using jupyter scatter -----------\n",
    "import jscatter\n",
    "\n",
    "jscatter.Scatter(\n",
    "    data=merged_df, x='UMAP_1', y='UMAP_2', color_by='orientation_label', **config, \n",
    "    tooltip=True,\n",
    "    tooltip_preview=\"url\",\n",
    "    tooltip_preview_type=\"image\",\n",
    "    tooltip_preview_image_background_color=\"white\",\n",
    "    tooltip_properties=[\"color\", \"size\"],\n",
    "    tooltip_size=\"medium\",\n",
    "    color_map=colormap,\n",
    ").show()"
   ]
  },
  {
   "cell_type": "code",
   "execution_count": null,
   "id": "6a6e9765-60f9-4933-bcb7-502151a6e3cf",
   "metadata": {},
   "outputs": [],
   "source": []
  }
 ],
 "metadata": {
  "kernelspec": {
   "display_name": "Python 3 (ipykernel)",
   "language": "python",
   "name": "python3"
  },
  "language_info": {
   "codemirror_mode": {
    "name": "ipython",
    "version": 3
   },
   "file_extension": ".py",
   "mimetype": "text/x-python",
   "name": "python",
   "nbconvert_exporter": "python",
   "pygments_lexer": "ipython3",
   "version": "3.12.3"
  }
 },
 "nbformat": 4,
 "nbformat_minor": 5
}
